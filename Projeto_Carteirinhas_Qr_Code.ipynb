{
  "nbformat": 4,
  "nbformat_minor": 0,
  "metadata": {
    "colab": {
      "name": "Projeto_Carteirinhas_Qr_Code.ipynb",
      "provenance": [],
      "authorship_tag": "ABX9TyNqnbzNuB1ABzvseyBpIAF6",
      "include_colab_link": true
    },
    "kernelspec": {
      "name": "python3",
      "display_name": "Python 3"
    },
    "language_info": {
      "name": "python"
    }
  },
  "cells": [
    {
      "cell_type": "markdown",
      "metadata": {
        "id": "view-in-github",
        "colab_type": "text"
      },
      "source": [
        "<a href=\"https://colab.research.google.com/github/JessicaLuana88/Engenheiro-de-dados/blob/main/Projeto_Carteirinhas_Qr_Code.ipynb\" target=\"_parent\"><img src=\"https://colab.research.google.com/assets/colab-badge.svg\" alt=\"Open In Colab\"/></a>"
      ]
    },
    {
      "cell_type": "code",
      "execution_count": null,
      "metadata": {
        "id": "DEt3yoa5wLcu"
      },
      "outputs": [],
      "source": [
        ""
      ]
    }
  ]
}