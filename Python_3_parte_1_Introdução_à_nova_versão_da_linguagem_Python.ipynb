{
  "nbformat": 4,
  "nbformat_minor": 0,
  "metadata": {
    "colab": {
      "name": "Python 3 parte 1: Introdução à nova versão da linguagem Python",
      "provenance": [],
      "collapsed_sections": [],
      "authorship_tag": "ABX9TyP3nM0tEQ+rbaCVNkMbrrCD",
      "include_colab_link": true
    },
    "kernelspec": {
      "name": "python3",
      "display_name": "Python 3"
    },
    "language_info": {
      "name": "python"
    }
  },
  "cells": [
    {
      "cell_type": "markdown",
      "metadata": {
        "id": "view-in-github",
        "colab_type": "text"
      },
      "source": [
        "<a href=\"https://colab.research.google.com/github/JessicaLuana88/Engenheiro-de-dados/blob/main/Python_3_parte_1_Introdu%C3%A7%C3%A3o_%C3%A0_nova_vers%C3%A3o_da_linguagem_Python.ipynb\" target=\"_parent\"><img src=\"https://colab.research.google.com/assets/colab-badge.svg\" alt=\"Open In Colab\"/></a>"
      ]
    },
    {
      "cell_type": "markdown",
      "metadata": {
        "id": "p71H565h2Acu"
      },
      "source": [
        "print (\"Olá MUndo\")"
      ]
    },
    {
      "cell_type": "code",
      "metadata": {
        "colab": {
          "base_uri": "https://localhost:8080/"
        },
        "id": "Mh_9dYrU48CD",
        "outputId": "da205169-b08f-41dc-9441-27958d45f877"
      },
      "source": [
        "print(\"Pameiras\" , \"ganhou\" , \"duas\" , \"libertadores\" , \"diretas\" , \n",
        "      \"dentro\" , \"de\" , \"um\" , \"ano\", sep = \"-\")"
      ],
      "execution_count": null,
      "outputs": [
        {
          "output_type": "stream",
          "name": "stdout",
          "text": [
            "Pameiras-ganhou-duas-libertadores-diretas-dentro-de-um-ano\n"
          ]
        }
      ]
    },
    {
      "cell_type": "markdown",
      "metadata": {
        "id": "bMzNeSLv7LRD"
      },
      "source": [
        "***Usando o SEP para inserir um - NO ESPAÇO entre as palavras***"
      ]
    },
    {
      "cell_type": "code",
      "metadata": {
        "colab": {
          "base_uri": "https://localhost:8080/"
        },
        "id": "P0uGxITA78GH",
        "outputId": "7e40112f-a5e2-4d97-e218-b8598ae2b8fb"
      },
      "source": [
        "print(\"Pameiras\" , \"ganhou\" , \"duas\" , \"libertadores\" , \"diretas\" , \n",
        "      \"dentro\" , \"de\" , \"um\" , \"ano\", sep = \"-\")"
      ],
      "execution_count": null,
      "outputs": [
        {
          "output_type": "stream",
          "name": "stdout",
          "text": [
            "Pameiras-ganhou-duas-libertadores-diretas-dentro-de-um-ano\n"
          ]
        }
      ]
    },
    {
      "cell_type": "markdown",
      "metadata": {
        "id": "emSOtA-58cJe"
      },
      "source": [
        "***Usando o SEP para inserir um ESPAÇO entre as palavras***"
      ]
    },
    {
      "cell_type": "code",
      "metadata": {
        "colab": {
          "base_uri": "https://localhost:8080/"
        },
        "id": "SrHzb4-58C6F",
        "outputId": "855fb897-ad19-4d01-81a6-a4138c21671a"
      },
      "source": [
        "print(\"Pameiras\" , \"ganhou\" , \"duas\" , \"libertadores\" , \"diretas\" , \n",
        "      \"dentro\" , \"de\" , \"um\" , \"ano\", sep = \" \")"
      ],
      "execution_count": null,
      "outputs": [
        {
          "output_type": "stream",
          "name": "stdout",
          "text": [
            "Pameiras ganhou duas libertadores diretas dentro de um ano\n"
          ]
        }
      ]
    },
    {
      "cell_type": "markdown",
      "metadata": {
        "id": "jn8xm2oa7vGu"
      },
      "source": [
        "***Usando o END no final para alterar o texto***"
      ]
    },
    {
      "cell_type": "code",
      "metadata": {
        "colab": {
          "base_uri": "https://localhost:8080/"
        },
        "id": "wjRFItBE7agv",
        "outputId": "efa71231-803d-44ab-a18c-98680516caec"
      },
      "source": [
        "print(\"Palmeiras\" ,\"ganhou\" , \"duas\" , \"libertadores\" , \"dentro\" , \"de \"\n",
        ", \"um\" , \"ano\", sep = \"-\")"
      ],
      "execution_count": null,
      "outputs": [
        {
          "output_type": "stream",
          "name": "stdout",
          "text": [
            "Palmeiras-ganhou-duas-libertadores-dentro-de -um-ano\n"
          ]
        }
      ]
    },
    {
      "cell_type": "code",
      "metadata": {
        "colab": {
          "base_uri": "https://localhost:8080/"
        },
        "id": "SZtO2rck6veZ",
        "outputId": "dfc3ac38-897a-4226-df74-ed65fa7d7afc"
      },
      "source": [
        "print(\"Palmeiras\" ,\"ganhou\" , \"duas\" , \"libertadores\" , \"dentro\" , \"de \"\n",
        ", \"um\" , \"ano\", end = \" \")"
      ],
      "execution_count": null,
      "outputs": [
        {
          "output_type": "stream",
          "name": "stdout",
          "text": [
            "Palmeiras ganhou duas libertadores dentro de  um ano "
          ]
        }
      ]
    },
    {
      "cell_type": "markdown",
      "metadata": {
        "id": "sfQgzlCW_UAw"
      },
      "source": [
        "***Declarando váriaveis***"
      ]
    },
    {
      "cell_type": "code",
      "metadata": {
        "colab": {
          "base_uri": "https://localhost:8080/"
        },
        "id": "O78Jn3NF-Zdi",
        "outputId": "a0edc471-1733-4c6f-8963-be650e841e7c"
      },
      "source": [
        "time = \"Santos\"\n",
        "titulos = 3\n",
        "\n",
        "print(time, \"ganhou\" , titulos, \"da libertadores!\")\n"
      ],
      "execution_count": null,
      "outputs": [
        {
          "output_type": "stream",
          "name": "stdout",
          "text": [
            "Santos ganhou 3 da libertadores!\n"
          ]
        }
      ]
    },
    {
      "cell_type": "code",
      "metadata": {
        "id": "c32Cjnwk_P6Z"
      },
      "source": [
        ""
      ],
      "execution_count": null,
      "outputs": []
    }
  ]
}